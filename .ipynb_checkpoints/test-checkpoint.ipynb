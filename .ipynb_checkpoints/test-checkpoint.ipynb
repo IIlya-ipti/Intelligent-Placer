{
 "cells": [
  {
   "cell_type": "code",
   "execution_count": 44,
   "id": "02a311e1-8126-4184-af40-bc5a268e0922",
   "metadata": {},
   "outputs": [],
   "source": [
    "import src.intelligent_placer_lib as ll"
   ]
  },
  {
   "cell_type": "code",
   "execution_count": 45,
   "id": "c8be41b2-4a4b-46f1-8814-f3edecfcf2b3",
   "metadata": {
    "tags": []
   },
   "outputs": [],
   "source": [
    "path = os.path.join(\"train_data\", \"8.jpeg\")\n",
    "\n"
   ]
  },
  {
   "cell_type": "code",
   "execution_count": 43,
   "id": "f25dc60d-66be-41e8-9393-23c46e3ec8e2",
   "metadata": {},
   "outputs": [
    {
     "name": "stdout",
     "output_type": "stream",
     "text": [
      "1/1 [==============================] - 0s 53ms/step\n"
     ]
    },
    {
     "data": {
      "text/plain": [
       "False"
      ]
     },
     "execution_count": 43,
     "metadata": {},
     "output_type": "execute_result"
    }
   ],
   "source": [
    "ll.check_image(path)"
   ]
  },
  {
   "cell_type": "code",
   "execution_count": null,
   "id": "42c1a27c-22bb-4426-9131-9e5eac0584e6",
   "metadata": {},
   "outputs": [],
   "source": []
  }
 ],
 "metadata": {
  "kernelspec": {
   "display_name": "Python 3 (ipykernel)",
   "language": "python",
   "name": "python3"
  },
  "language_info": {
   "codemirror_mode": {
    "name": "ipython",
    "version": 3
   },
   "file_extension": ".py",
   "mimetype": "text/x-python",
   "name": "python",
   "nbconvert_exporter": "python",
   "pygments_lexer": "ipython3",
   "version": "3.10.7"
  }
 },
 "nbformat": 4,
 "nbformat_minor": 5
}
