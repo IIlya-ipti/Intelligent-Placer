{
 "cells": [
  {
   "cell_type": "code",
   "execution_count": 1,
   "id": "02a311e1-8126-4184-af40-bc5a268e0922",
   "metadata": {},
   "outputs": [],
   "source": [
    "import os\n",
    "import numpy as np\n",
    "import src.intellig_placer_lib as ll"
   ]
  },
  {
   "cell_type": "code",
   "execution_count": 28,
   "id": "c8be41b2-4a4b-46f1-8814-f3edecfcf2b3",
   "metadata": {
    "tags": []
   },
   "outputs": [],
   "source": [
    "path = os.path.join(\"train_data\", \"14.jpeg\")"
   ]
  },
  {
   "cell_type": "code",
   "execution_count": 29,
   "id": "f25dc60d-66be-41e8-9393-23c46e3ec8e2",
   "metadata": {},
   "outputs": [
    {
     "name": "stdout",
     "output_type": "stream",
     "text": [
      "1/1 [==============================] - 0s 46ms/step\n",
      "number of objects (without polygon):  3\n"
     ]
    },
    {
     "data": {
      "text/plain": [
       "True"
      ]
     },
     "execution_count": 29,
     "metadata": {},
     "output_type": "execute_result"
    },
    {
     "data": {
      "image/png": "[encoded data removed]",
      "text/plain": [
       "<Figure size 640x480 with 1 Axes>"
      ]
     },
     "metadata": {},
     "output_type": "display_data"
    }
   ],
   "source": [
    "ll.check_image(path)"
   ]
  },
  {
   "cell_type": "code",
   "execution_count": null,
   "id": "fd2a550d-e38f-44a0-88a3-3a0e661ca73b",
   "metadata": {},
   "outputs": [],
   "source": []
  },
  {
   "cell_type": "code",
   "execution_count": null,
   "id": "52bf5af4-c036-4729-8f24-efcdd3667b3a",
   "metadata": {},
   "outputs": [],
   "source": []
  }
 ],
 "metadata": {
  "kernelspec": {
   "display_name": "Python 3 (ipykernel)",
   "language": "python",
   "name": "python3"
  },
  "language_info": {
   "codemirror_mode": {
    "name": "ipython",
    "version": 3
   },
   "file_extension": ".py",
   "mimetype": "text/x-python",
   "name": "python",
   "nbconvert_exporter": "python",
   "pygments_lexer": "ipython3",
   "version": "3.10.7"
  }
 },
 "nbformat": 4,
 "nbformat_minor": 5
}
