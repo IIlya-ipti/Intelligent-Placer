{
 "cells": [
  {
   "cell_type": "code",
   "execution_count": 31,
   "id": "02a311e1-8126-4184-af40-bc5a268e0922",
   "metadata": {},
   "outputs": [],
   "source": [
    "import os\n",
    "import numpy as np\n",
    "import src.intelligent_placer_lib as ll\n",
    "import src.photo_preprocessing as pp\n",
    "import matplotlib.pyplot as plt"
   ]
  },
  {
   "cell_type": "code",
   "execution_count": 32,
   "id": "c8be41b2-4a4b-46f1-8814-f3edecfcf2b3",
   "metadata": {
    "tags": []
   },
   "outputs": [],
   "source": [
    "path = os.path.join(\"train_data\", \"7.jpeg\")"
   ]
  },
  {
   "cell_type": "code",
   "execution_count": 33,
   "id": "f25dc60d-66be-41e8-9393-23c46e3ec8e2",
   "metadata": {},
   "outputs": [
    {
     "name": "stdout",
     "output_type": "stream",
     "text": [
      "1/1 [==============================] - 0s 46ms/step\n",
      "number of objects:  2\n"
     ]
    },
    {
     "data": {
      "text/plain": [
       "True"
      ]
     },
     "execution_count": 33,
     "metadata": {},
     "output_type": "execute_result"
    },
    {
     "data": {
      "image/png": "[encoded data removed]",
      "text/plain": [
       "<Figure size 640x480 with 1 Axes>"
      ]
     },
     "metadata": {},
     "output_type": "display_data"
    }
   ],
   "source": [
    "ll.check_image(path)"
   ]
  },
  {
   "cell_type": "code",
   "execution_count": 8,
   "id": "a261909b-098b-4fa0-aafb-657688005b12",
   "metadata": {},
   "outputs": [],
   "source": [
    "easy_to_segment = plt.imread(path)"
   ]
  },
  {
   "cell_type": "code",
   "execution_count": 6,
   "id": "2298e9df-4f01-4185-a745-13c1f4d6b061",
   "metadata": {},
   "outputs": [
    {
     "ename": "NameError",
     "evalue": "name 'mask' is not defined",
     "output_type": "error",
     "traceback": [
      "\u001b[1;31m---------------------------------------------------------------------------\u001b[0m",
      "\u001b[1;31mNameError\u001b[0m                                 Traceback (most recent call last)",
      "Cell \u001b[1;32mIn[6], line 1\u001b[0m\n\u001b[1;32m----> 1\u001b[0m plt\u001b[38;5;241m.\u001b[39mimshow(\u001b[43mmask\u001b[49m)\n",
      "\u001b[1;31mNameError\u001b[0m: name 'mask' is not defined"
     ]
    }
   ],
   "source": [
    "plt.imshow(mask)"
   ]
  },
  {
   "cell_type": "code",
   "execution_count": 17,
   "id": "3ef8447b-e13b-4142-bbf7-c6f25f21018d",
   "metadata": {},
   "outputs": [],
   "source": [
    " easy_to_segment = cv2.resize(easy_to_segment, (112,208))"
   ]
  },
  {
   "cell_type": "code",
   "execution_count": 16,
   "id": "d23ab683-9a76-47a2-8e5a-c57d8268d3b0",
   "metadata": {},
   "outputs": [],
   "source": [
    "import cv2"
   ]
  },
  {
   "cell_type": "code",
   "execution_count": null,
   "id": "fd2a550d-e38f-44a0-88a3-3a0e661ca73b",
   "metadata": {},
   "outputs": [],
   "source": []
  }
 ],
 "metadata": {
  "kernelspec": {
   "display_name": "Python 3 (ipykernel)",
   "language": "python",
   "name": "python3"
  },
  "language_info": {
   "codemirror_mode": {
    "name": "ipython",
    "version": 3
   },
   "file_extension": ".py",
   "mimetype": "text/x-python",
   "name": "python",
   "nbconvert_exporter": "python",
   "pygments_lexer": "ipython3",
   "version": "3.10.7"
  }
 },
 "nbformat": 4,
 "nbformat_minor": 5
}
